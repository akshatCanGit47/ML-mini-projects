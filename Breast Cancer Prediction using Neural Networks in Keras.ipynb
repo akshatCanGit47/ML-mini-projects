{
 "cells": [
  {
   "cell_type": "code",
   "execution_count": 1,
   "id": "8253ac02",
   "metadata": {},
   "outputs": [],
   "source": [
    "from keras.models import Sequential\n",
    "from keras.layers import Dense"
   ]
  },
  {
   "cell_type": "code",
   "execution_count": 2,
   "id": "1ba4e291",
   "metadata": {},
   "outputs": [],
   "source": [
    "#Creating a model\n",
    "model = Sequential()"
   ]
  },
  {
   "cell_type": "code",
   "execution_count": 3,
   "id": "17fe6c79",
   "metadata": {},
   "outputs": [],
   "source": [
    "#hidden layer 1\n",
    "layer1 = Dense(units=32,activation= 'relu',input_dim=30)\n",
    "#hidden layer 2\n",
    "layer2=Dense(units=16, activation = 'relu')\n",
    "#output layer\n",
    "layer3=Dense(units=1,activation = 'sigmoid')\n",
    "model.add(layer1)\n",
    "model.add(layer2)\n",
    "model.add(layer3)"
   ]
  },
  {
   "cell_type": "code",
   "execution_count": 4,
   "id": "a6c10a75",
   "metadata": {},
   "outputs": [],
   "source": [
    "#compile\n",
    "model.compile(optimizer='adam',loss='binary_crossentropy',metrics=['accuracy'])"
   ]
  },
  {
   "cell_type": "code",
   "execution_count": 5,
   "id": "cc0b7eb9",
   "metadata": {},
   "outputs": [],
   "source": [
    "from sklearn import datasets\n",
    "cancer = datasets.load_breast_cancer()\n",
    "from sklearn.model_selection import train_test_split\n",
    "\n",
    "x_train, x_test, y_train, y_test = train_test_split(cancer.data, cancer.target, test_size = 0.2, random_state = 0)\n",
    "\n",
    "from sklearn.preprocessing import StandardScaler\n",
    "\n",
    "sc = StandardScaler()\n",
    "x_train = sc.fit_transform(x_train)\n",
    "x_test = sc.transform(x_test)"
   ]
  },
  {
   "cell_type": "code",
   "execution_count": 6,
   "id": "18a97d4e",
   "metadata": {},
   "outputs": [
    {
     "name": "stdout",
     "output_type": "stream",
     "text": [
      "15/15 [==============================] - 1s 3ms/step - loss: 0.6211 - accuracy: 0.7143\n"
     ]
    },
    {
     "data": {
      "text/plain": [
       "<keras.callbacks.History at 0x1bd209a9220>"
      ]
     },
     "execution_count": 6,
     "metadata": {},
     "output_type": "execute_result"
    }
   ],
   "source": [
    "#fitting training data in keras\n",
    "#running for 1 epoch\n",
    "model.fit(x_train,y_train)"
   ]
  },
  {
   "cell_type": "code",
   "execution_count": 9,
   "id": "db2789bd",
   "metadata": {},
   "outputs": [
    {
     "name": "stdout",
     "output_type": "stream",
     "text": [
      "Epoch 1/20\n",
      "10/10 [==============================] - 0s 14ms/step - loss: 0.0411 - accuracy: 0.9912 - val_loss: 0.0679 - val_accuracy: 0.9561\n",
      "Epoch 2/20\n",
      "10/10 [==============================] - 0s 8ms/step - loss: 0.0406 - accuracy: 0.9912 - val_loss: 0.0677 - val_accuracy: 0.9561\n",
      "Epoch 3/20\n",
      "10/10 [==============================] - 0s 10ms/step - loss: 0.0404 - accuracy: 0.9890 - val_loss: 0.0672 - val_accuracy: 0.9561\n",
      "Epoch 4/20\n",
      "10/10 [==============================] - 0s 8ms/step - loss: 0.0395 - accuracy: 0.9912 - val_loss: 0.0678 - val_accuracy: 0.9561\n",
      "Epoch 5/20\n",
      "10/10 [==============================] - 0s 9ms/step - loss: 0.0386 - accuracy: 0.9912 - val_loss: 0.0681 - val_accuracy: 0.9561\n",
      "Epoch 6/20\n",
      "10/10 [==============================] - 0s 8ms/step - loss: 0.0377 - accuracy: 0.9912 - val_loss: 0.0679 - val_accuracy: 0.9561\n",
      "Epoch 7/20\n",
      "10/10 [==============================] - 0s 10ms/step - loss: 0.0370 - accuracy: 0.9912 - val_loss: 0.0678 - val_accuracy: 0.9561\n",
      "Epoch 8/20\n",
      "10/10 [==============================] - 0s 8ms/step - loss: 0.0363 - accuracy: 0.9912 - val_loss: 0.0678 - val_accuracy: 0.9649\n",
      "Epoch 9/20\n",
      "10/10 [==============================] - 0s 9ms/step - loss: 0.0353 - accuracy: 0.9912 - val_loss: 0.0681 - val_accuracy: 0.9649\n",
      "Epoch 10/20\n",
      "10/10 [==============================] - 0s 8ms/step - loss: 0.0348 - accuracy: 0.9912 - val_loss: 0.0677 - val_accuracy: 0.9737\n",
      "Epoch 11/20\n",
      "10/10 [==============================] - 0s 8ms/step - loss: 0.0340 - accuracy: 0.9912 - val_loss: 0.0673 - val_accuracy: 0.9649\n",
      "Epoch 12/20\n",
      "10/10 [==============================] - 0s 9ms/step - loss: 0.0335 - accuracy: 0.9912 - val_loss: 0.0666 - val_accuracy: 0.9649\n",
      "Epoch 13/20\n",
      "10/10 [==============================] - 0s 8ms/step - loss: 0.0330 - accuracy: 0.9912 - val_loss: 0.0661 - val_accuracy: 0.9649\n",
      "Epoch 14/20\n",
      "10/10 [==============================] - 0s 8ms/step - loss: 0.0322 - accuracy: 0.9912 - val_loss: 0.0659 - val_accuracy: 0.9561\n",
      "Epoch 15/20\n",
      "10/10 [==============================] - 0s 8ms/step - loss: 0.0317 - accuracy: 0.9912 - val_loss: 0.0655 - val_accuracy: 0.9649\n",
      "Epoch 16/20\n",
      "10/10 [==============================] - 0s 8ms/step - loss: 0.0311 - accuracy: 0.9912 - val_loss: 0.0643 - val_accuracy: 0.9561\n",
      "Epoch 17/20\n",
      "10/10 [==============================] - 0s 9ms/step - loss: 0.0306 - accuracy: 0.9912 - val_loss: 0.0642 - val_accuracy: 0.9561\n",
      "Epoch 18/20\n",
      "10/10 [==============================] - 0s 8ms/step - loss: 0.0301 - accuracy: 0.9912 - val_loss: 0.0632 - val_accuracy: 0.9561\n",
      "Epoch 19/20\n",
      "10/10 [==============================] - 0s 8ms/step - loss: 0.0294 - accuracy: 0.9912 - val_loss: 0.0626 - val_accuracy: 0.9649\n",
      "Epoch 20/20\n",
      "10/10 [==============================] - 0s 8ms/step - loss: 0.0288 - accuracy: 0.9912 - val_loss: 0.0618 - val_accuracy: 0.9561\n"
     ]
    },
    {
     "data": {
      "text/plain": [
       "<keras.callbacks.History at 0x1bd22e332e0>"
      ]
     },
     "execution_count": 9,
     "metadata": {},
     "output_type": "execute_result"
    }
   ],
   "source": [
    "#running for higher number of epochs\n",
    "model.fit(x_train, y_train, epochs=20,batch_size=50,validation_data=(x_test,y_test))"
   ]
  },
  {
   "cell_type": "code",
   "execution_count": 11,
   "id": "b5931c0c",
   "metadata": {},
   "outputs": [
    {
     "name": "stdout",
     "output_type": "stream",
     "text": [
      "4/4 [==============================] - 0s 3ms/step\n",
      "4/4 [==============================] - 0s 4ms/step - loss: 0.0618 - accuracy: 0.9561\n"
     ]
    }
   ],
   "source": [
    "predictions = model.predict(x_test)\n",
    "score = model.evaluate(x_test,y_test)"
   ]
  }
 ],
 "metadata": {
  "kernelspec": {
   "display_name": "Python 3",
   "language": "python",
   "name": "python3"
  },
  "language_info": {
   "codemirror_mode": {
    "name": "ipython",
    "version": 3
   },
   "file_extension": ".py",
   "mimetype": "text/x-python",
   "name": "python",
   "nbconvert_exporter": "python",
   "pygments_lexer": "ipython3",
   "version": "3.8.8"
  }
 },
 "nbformat": 4,
 "nbformat_minor": 5
}
